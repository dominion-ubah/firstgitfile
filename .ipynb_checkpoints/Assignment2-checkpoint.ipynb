{
 "cells": [
  {
   "cell_type": "markdown",
   "metadata": {},
   "source": [
    "Assignment 2\n",
    "\n",
    "Tasks Is to Create an excel sheet with dummy data\n",
    "        write. these data into an excel document with 10sheets\n",
    "        read this excel file with pandas and write the files into \n",
    "        10 csv files\n"
   ]
  },
  {
   "cell_type": "markdown",
   "metadata": {},
   "source": [
    "Import Numpy to generate a random array that we can use and Pandas libraries to generate a dataframe for creating our excel file with 10sheets\n"
   ]
  },
  {
   "cell_type": "code",
   "execution_count": 108,
   "metadata": {},
   "outputs": [
    {
     "name": "stdout",
     "output_type": "stream",
     "text": [
      "[[0.52135154 0.46035093 0.98449108 0.50366184 0.28373902]\n",
      " [0.75490332 0.54984692 0.29727756 0.25942798 0.67170082]\n",
      " [0.87997044 0.52958806 0.92740123 0.0164238  0.276072  ]\n",
      " [0.54631981 0.23865998 0.494582   0.79572567 0.80182697]\n",
      " [0.37486362 0.04066018 0.313513   0.77206154 0.1853858 ]]\n"
     ]
    }
   ],
   "source": [
    "\n",
    "\n",
    "import numpy as np\n",
    "import pandas as pd\n",
    "\n",
    "new_multid_arr = np.random.rand(5,5)\n",
    "\n",
    "print(new_multid_arr)"
   ]
  },
  {
   "cell_type": "markdown",
   "metadata": {},
   "source": [
    "Create the data frame from the random array, and use custome indexes and columns\n"
   ]
  },
  {
   "cell_type": "code",
   "execution_count": 109,
   "metadata": {},
   "outputs": [
    {
     "name": "stdout",
     "output_type": "stream",
     "text": [
      "              Sunny     Rainy    Autumn    Winter  Harmattan\n",
      "Russia     0.521352  0.460351  0.984491  0.503662   0.283739\n",
      "Italy      0.754903  0.549847  0.297278  0.259428   0.671701\n",
      "Australia  0.879970  0.529588  0.927401  0.016424   0.276072\n",
      "Cuba       0.546320  0.238660  0.494582  0.795726   0.801827\n",
      "Botswana   0.374864  0.040660  0.313513  0.772062   0.185386\n"
     ]
    }
   ],
   "source": [
    "new_dataframe = pd.DataFrame(data=new_multid_arr, index=['Russia', 'Italy', 'Australia', 'Cuba', 'Botswana'], columns=['Sunny', 'Rainy', 'Autumn', 'Winter', 'Harmattan'])\n",
    "print(new_dataframe)"
   ]
  },
  {
   "cell_type": "markdown",
   "metadata": {},
   "source": [
    "Write this data frame into 10 excel sheet and create the xlsx file with pandas"
   ]
  },
  {
   "cell_type": "code",
   "execution_count": 110,
   "metadata": {},
   "outputs": [],
   "source": [
    "df_sht1 = new_dataframe.copy()\n",
    "\n",
    "\n",
    "with pd.ExcelWriter('ikechukwu_.xlsx') as writer:\n",
    "    df_sht1.to_excel(writer, sheet_name='Sheet1')\n",
    "    df_sht1.to_excel(writer, sheet_name='Sheet2')\n",
    "    df_sht1.to_excel(writer, sheet_name='Sheet3')\n",
    "    df_sht1.to_excel(writer, sheet_name='Sheet4')\n",
    "    df_sht1.to_excel(writer, sheet_name='Sheet5')\n",
    "    df_sht1.to_excel(writer, sheet_name='Sheet6')\n",
    "    df_sht1.to_excel(writer, sheet_name='Sheet7')\n",
    "    df_sht1.to_excel(writer, sheet_name='Sheet8')\n",
    "    df_sht1.to_excel(writer, sheet_name='Sheet9')\n",
    "    df_sht1.to_excel(writer, sheet_name='Sheet10')\n"
   ]
  },
  {
   "cell_type": "markdown",
   "metadata": {},
   "source": [
    "Reading the excel file\n"
   ]
  },
  {
   "cell_type": "code",
   "execution_count": 111,
   "metadata": {},
   "outputs": [],
   "source": [
    "excel_dict = pd.read_excel('judy_.xlsx', index_col=0, sheet_name=None)"
   ]
  },
  {
   "cell_type": "markdown",
   "metadata": {},
   "source": [
    "Create 10 csv's from the ordered dictionary gotten. from. reading the excel document"
   ]
  },
  {
   "cell_type": "code",
   "execution_count": 112,
   "metadata": {},
   "outputs": [],
   "source": [
    "for data in excel_dict:\n",
    "    excel_dict[data].to_csv(data+'.csv', index=False )"
   ]
  },
  {
   "cell_type": "markdown",
   "metadata": {},
   "source": [
    "Finish !!"
   ]
  }
 ],
 "metadata": {
  "kernelspec": {
   "display_name": "Python 2",
   "language": "python",
   "name": "python2"
  },
  "language_info": {
   "codemirror_mode": {
    "name": "ipython",
    "version": 2
   },
   "file_extension": ".py",
   "mimetype": "text/x-python",
   "name": "python",
   "nbconvert_exporter": "python",
   "pygments_lexer": "ipython2",
   "version": "2.7.16"
  }
 },
 "nbformat": 4,
 "nbformat_minor": 2
}
